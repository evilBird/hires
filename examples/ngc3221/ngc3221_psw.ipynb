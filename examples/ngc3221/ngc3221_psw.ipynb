{
 "metadata": {
  "name": "ngc3221_psw"
 },
 "nbformat": 3,
 "nbformat_minor": 0,
 "worksheets": [
  {
   "cells": [
    {
     "cell_type": "markdown",
     "metadata": {},
     "source": [
      "Here we will process ngc3221"
     ]
    },
    {
     "cell_type": "code",
     "collapsed": false,
     "input": [
      "%cd /Users/shupe/Analysis/hires/GOALS/ngc3221\n",
      "import hires\n",
      "reload(hires)\n",
      "import hires_Spire\n",
      "reload(hires_Spire)\n",
      "%pylab inline\n",
      "import astropy.io.fits as pyfits"
     ],
     "language": "python",
     "metadata": {},
     "outputs": [
      {
       "output_type": "stream",
       "stream": "stdout",
       "text": [
        "/Users/shupe/Analysis/hires/GOALS/ngc3221\n",
        "\n",
        "Welcome to pylab, a matplotlib-based Python environment [backend: module://IPython.zmq.pylab.backend_inline].\n",
        "For more information, type 'help(pylab)'."
       ]
      },
      {
       "output_type": "stream",
       "stream": "stdout",
       "text": [
        "\n"
       ]
      }
     ],
     "prompt_number": 1
    },
    {
     "cell_type": "markdown",
     "metadata": {},
     "source": [
      "Execute the elements of the hires.__main__ method"
     ]
    },
    {
     "cell_type": "code",
     "collapsed": false,
     "input": [
      "band = 'psw'\n",
      "outprefix = 'out/ngc3221_'+ band\n",
      "datapath = '/Volumes/disk3/shupe/GOALS_Herschel/s_1342246610/1342246610/level1/herschel.spire.ia.dataset.PointedPhotTimeline/'\n",
      "hires.get_paramaters(['progname', datapath, outprefix, '../params/SPIRE.params','../params/%s.params'%band,'ngc3221_%s.params'%band])"
     ],
     "language": "python",
     "metadata": {},
     "outputs": [],
     "prompt_number": 2
    },
    {
     "cell_type": "code",
     "collapsed": false,
     "input": [
      "hires.FLUX_OFFSET = 0.25"
     ],
     "language": "python",
     "metadata": {},
     "outputs": [],
     "prompt_number": 3
    },
    {
     "cell_type": "code",
     "collapsed": false,
     "input": [
      "hires.print_paramaters()"
     ],
     "language": "python",
     "metadata": {},
     "outputs": [
      {
       "output_type": "stream",
       "stream": "stdout",
       "text": [
        "       \n",
        "Input data file options:\n",
        "         INFILE_PREFIX /Volumes/disk3/shupe/GOALS_Herschel/s_1342246610/1342246610/level1/herschel.spire.ia.dataset.PointedPhotTimeline/\n",
        "         STARTING_IMAGE flat\n",
        "         MIN_SAMPLE_FLUX     1e-200\n",
        "         FLUX_OFFSET        0.3\n",
        "       \n",
        "DRF (detector response files) to use:\n",
        "         DRF_PREFIX /Users/shupe/Analysis/hires/mapmaker/params/psw_beam_1arcsec_cutout.fits\n",
        "       \n",
        "Output image geometry:\n",
        "         NPIX 80 80\n",
        "         DEG_PER_PIX 0.000833\n",
        "         CRVAL1 155.58483\n",
        "         CRVAL2 21.56913\n",
        "         CTYPE1 RA---TAN\n",
        "         CTYPE2 DEC--TAN\n",
        "       \n",
        "Output file options:\n",
        "         OUTFILE_PREFIX out/ngc3221_psw\n",
        "         OUTFILE_TYPES ['flux', 'cov', 'cfv', 'beam']\n",
        "         ITER_MAX 20\n",
        "         ITER_LIST [1, 2, 3, 4, 5, 6, 7, 8, 9, 10, 11, 12, 13, 14, 15, 20, 40, 60, 80]\n",
        "         FLUX_UNITS Jy/beam\n",
        "       \n",
        "Beam image file options:\n",
        "         BEAM_SPIKE_N 5\n",
        "         BEAM_SPIKE_HEIGHT 10.000000\n",
        "         BEAM_STARTING_IMAGE flat\n",
        "       \n",
        "Additional FITS keywords:\n",
        "         KWD ('TELESCOP', 'Herschel', '')\n",
        "         KWD ('WAVELEN', 250, 'um')\n",
        "         KWD ('INSTRUME', 'SPIRE', 'Photometer')\n",
        "         KWD ('OBJECT', 'NGC', '3221')\n",
        "       \n",
        "Accelerated correction option:\n",
        "         BOOST SQUARED for ITER 2 to 5\n",
        "       \n",
        "Footprint accuracy options:\n",
        "         ANGLE_TOLERANCE 2.50\n",
        "         FOOTPRINTS_PER_PIX 3\n",
        " \n",
        " 0.78 Start PROCESSING  (HIRES v1_11)\n"
       ]
      }
     ],
     "prompt_number": 4
    },
    {
     "cell_type": "code",
     "collapsed": false,
     "input": [
      "all_detectors = hires.read_all_DRF_files()"
     ],
     "language": "python",
     "metadata": {},
     "outputs": [
      {
       "output_type": "stream",
       "stream": "stdout",
       "text": [
        "       ... Detector defined, id=1\n"
       ]
      }
     ],
     "prompt_number": 5
    },
    {
     "cell_type": "code",
     "collapsed": false,
     "input": [
      "print all_detectors"
     ],
     "language": "python",
     "metadata": {},
     "outputs": [
      {
       "output_type": "stream",
       "stream": "stdout",
       "text": [
        "{'1': <hires.Detector instance at 0x10814fc20>}\n"
       ]
      }
     ],
     "prompt_number": 6
    },
    {
     "cell_type": "code",
     "collapsed": false,
     "input": [
      "all_samples = hires.read_all_IN_files()"
     ],
     "language": "python",
     "metadata": {},
     "outputs": [],
     "prompt_number": 7
    },
    {
     "cell_type": "code",
     "collapsed": false,
     "input": [
      "print hires.GLOBAL_MIN"
     ],
     "language": "python",
     "metadata": {},
     "outputs": [
      {
       "output_type": "stream",
       "stream": "stdout",
       "text": [
        "0.0551743281579\n"
       ]
      }
     ],
     "prompt_number": 8
    },
    {
     "cell_type": "code",
     "collapsed": false,
     "input": [
      "all_footprints = hires.create_all_footprints(all_samples, all_detectors)"
     ],
     "language": "python",
     "metadata": {},
     "outputs": [
      {
       "output_type": "stream",
       "stream": "stdout",
       "text": [
        "       image size degrees  = 0.0658 x 0.0658\n",
        " 3.16 IN data samples scanning complete\n",
        "       109937 data samples read\n",
        "       24127 data samples good\n",
        "       85810 data samples rejected\n",
        " \n",
        "** WARNING: More than 50% of data samples rejected\n",
        " \n",
        "DEBUG: full array created: 1 0.33 0.33 0.00"
       ]
      },
      {
       "output_type": "stream",
       "stream": "stdout",
       "text": [
        "\n",
        "DEBUG: full array created: 1 0.33 -0.00 0.00"
       ]
      },
      {
       "output_type": "stream",
       "stream": "stdout",
       "text": [
        "\n",
        "DEBUG: full array created: 1 -0.33 0.33 0.00"
       ]
      },
      {
       "output_type": "stream",
       "stream": "stdout",
       "text": [
        "\n",
        "DEBUG: full array created: 1 -0.00 -0.33 0.00"
       ]
      },
      {
       "output_type": "stream",
       "stream": "stdout",
       "text": [
        "\n",
        "DEBUG: full array created: 1 0.33 -0.33 0.00"
       ]
      },
      {
       "output_type": "stream",
       "stream": "stdout",
       "text": [
        "\n",
        "DEBUG: full array created: 1 -0.33 -0.33 0.00"
       ]
      },
      {
       "output_type": "stream",
       "stream": "stdout",
       "text": [
        "\n",
        "DEBUG: full array created: 1 -0.33 -0.00 0.00"
       ]
      },
      {
       "output_type": "stream",
       "stream": "stdout",
       "text": [
        "\n",
        "DEBUG: full array created: 1 -0.00 0.33 0.00"
       ]
      },
      {
       "output_type": "stream",
       "stream": "stdout",
       "text": [
        "\n",
        "DEBUG: full array created: 1 -0.00 -0.00 0.00"
       ]
      },
      {
       "output_type": "stream",
       "stream": "stdout",
       "text": [
        "\n",
        " 4.65 Footprint creation complete"
       ]
      },
      {
       "output_type": "stream",
       "stream": "stdout",
       "text": [
        "\n",
        "       24127 footprints created\n",
        "       ... (9 full response arrays created)\n",
        "       0 sample fluxes reset to minimum\n"
       ]
      }
     ],
     "prompt_number": 9
    },
    {
     "cell_type": "code",
     "collapsed": false,
     "input": [
      "wgt_image = hires.calc_wgt_image(all_footprints)"
     ],
     "language": "python",
     "metadata": {},
     "outputs": [
      {
       "output_type": "stream",
       "stream": "stdout",
       "text": [
        " 5.09 Weight array computed\n"
       ]
      }
     ],
     "prompt_number": 10
    },
    {
     "cell_type": "code",
     "collapsed": false,
     "input": [
      "print all_footprints"
     ],
     "language": "python",
     "metadata": {},
     "outputs": [
      {
       "output_type": "stream",
       "stream": "stdout",
       "text": [
        "<hires.FootprintSet instance at 0x10b2bcfc8>\n"
       ]
      }
     ],
     "prompt_number": 11
    },
    {
     "cell_type": "code",
     "collapsed": false,
     "input": [
      "if 'cov' in hires.OUTFILE_TYPES: hires.write_FITS_image(wgt_image, 'cov')"
     ],
     "language": "python",
     "metadata": {},
     "outputs": [
      {
       "output_type": "stream",
       "stream": "stdout",
       "text": [
        " 5.11 Output file written: out/ngc3221_psw_cov.fits\n"
       ]
      }
     ],
     "prompt_number": 12
    },
    {
     "cell_type": "code",
     "collapsed": false,
     "input": [
      "if 'flux' in hires.OUTFILE_TYPES:\n",
      "    flux_image, iter_start = hires.make_start_image(hires.STARTING_IMAGE)\n",
      "    for iter in range(iter_start+1, hires.ITER_MAX+1):\n",
      "        do_cfv_image =  ('cfv' in hires.OUTFILE_TYPES) and (iter in hires.ITER_LIST)\n",
      "        corr_wgt_image, corr_sq_wgt_image = \\\n",
      "          hires.calc_corr_wgt_image(all_footprints, flux_image, iter, do_cfv_image)\n",
      "        correction_image = corr_wgt_image / wgt_image\n",
      "        flux_image *= correction_image\n",
      "        hires.log(hires.LOG_extra, 'Mean flux in image = %f', flux_image.mean() )\n",
      "        imshow(flux_image)\n",
      "        if iter in hires.ITER_LIST: hires.write_FITS_image(flux_image, 'flux', iter)\n",
      "        if do_cfv_image: \n",
      "            corr_sq_image = (corr_sq_wgt_image / wgt_image) - \\\n",
      "                            (correction_image * correction_image)\n",
      "            hires.write_FITS_image(corr_sq_image, 'cfv', iter)"
     ],
     "language": "python",
     "metadata": {},
     "outputs": [
      {
       "output_type": "stream",
       "stream": "stdout",
       "text": [
        " 7.08 Correction array computed, iter 1\n",
        "       ... Mean flux in image = 0.416710\n",
        " 7.13 Output file written: out/ngc3221_psw_flux_1.fits"
       ]
      },
      {
       "output_type": "stream",
       "stream": "stdout",
       "text": [
        "\n",
        " 7.14 Output file written: out/ngc3221_psw_cfv_1.fits\n",
        " 9.08 Correction array computed, iter 2"
       ]
      },
      {
       "output_type": "stream",
       "stream": "stdout",
       "text": [
        "\n",
        "          (BOOSTED correction)\n",
        "       ... Mean flux in image = 0.452093\n",
        " 9.09 Output file written: out/ngc3221_psw_flux_2.fits\n",
        " 9.10 Output file written: out/ngc3221_psw_cfv_2.fits\n",
        "11.02 Correction array computed, iter 3"
       ]
      },
      {
       "output_type": "stream",
       "stream": "stdout",
       "text": [
        "\n",
        "          (BOOSTED correction)\n",
        "       ... Mean flux in image = 0.407611\n",
        "11.04 Output file written: out/ngc3221_psw_flux_3.fits\n",
        "11.05 Output file written: out/ngc3221_psw_cfv_3.fits\n",
        "13.01 Correction array computed, iter 4"
       ]
      },
      {
       "output_type": "stream",
       "stream": "stdout",
       "text": [
        "\n",
        "          (BOOSTED correction)\n",
        "       ... Mean flux in image = 0.449153\n",
        "13.03 Output file written: out/ngc3221_psw_flux_4.fits\n",
        "13.04 Output file written: out/ngc3221_psw_cfv_4.fits\n",
        "14.99 Correction array computed, iter 5"
       ]
      },
      {
       "output_type": "stream",
       "stream": "stdout",
       "text": [
        "\n",
        "          (BOOSTED correction)\n",
        "       ... Mean flux in image = 0.407881\n",
        "15.01 Output file written: out/ngc3221_psw_flux_5.fits\n",
        "15.02 Output file written: out/ngc3221_psw_cfv_5.fits\n",
        "16.93 Correction array computed, iter 6"
       ]
      },
      {
       "output_type": "stream",
       "stream": "stdout",
       "text": [
        "\n",
        "       ... Mean flux in image = 0.423845\n",
        "16.94 Output file written: out/ngc3221_psw_flux_6.fits\n",
        "16.95 Output file written: out/ngc3221_psw_cfv_6.fits\n",
        "18.88 Correction array computed, iter 7"
       ]
      },
      {
       "output_type": "stream",
       "stream": "stdout",
       "text": [
        "\n",
        "       ... Mean flux in image = 0.423946\n",
        "18.89 Output file written: out/ngc3221_psw_flux_7.fits\n",
        "18.90 Output file written: out/ngc3221_psw_cfv_7.fits\n",
        "20.81 Correction array computed, iter 8"
       ]
      },
      {
       "output_type": "stream",
       "stream": "stdout",
       "text": [
        "\n",
        "       ... Mean flux in image = 0.424147\n",
        "20.82 Output file written: out/ngc3221_psw_flux_8.fits\n",
        "20.83 Output file written: out/ngc3221_psw_cfv_8.fits\n",
        "22.76 Correction array computed, iter 9"
       ]
      },
      {
       "output_type": "stream",
       "stream": "stdout",
       "text": [
        "\n",
        "       ... Mean flux in image = 0.424342\n",
        "22.77 Output file written: out/ngc3221_psw_flux_9.fits\n",
        "22.78 Output file written: out/ngc3221_psw_cfv_9.fits\n",
        "24.72 Correction array computed, iter 10"
       ]
      },
      {
       "output_type": "stream",
       "stream": "stdout",
       "text": [
        "\n",
        "       ... Mean flux in image = 0.424524\n",
        "24.74 Output file written: out/ngc3221_psw_flux_10.fits\n",
        "24.75 Output file written: out/ngc3221_psw_cfv_10.fits\n",
        "26.68 Correction array computed, iter 11"
       ]
      },
      {
       "output_type": "stream",
       "stream": "stdout",
       "text": [
        "\n",
        "       ... Mean flux in image = 0.424698\n",
        "26.69 Output file written: out/ngc3221_psw_flux_11.fits\n",
        "26.70 Output file written: out/ngc3221_psw_cfv_11.fits\n",
        "28.63 Correction array computed, iter 12"
       ]
      },
      {
       "output_type": "stream",
       "stream": "stdout",
       "text": [
        "\n",
        "       ... Mean flux in image = 0.424862\n",
        "28.64 Output file written: out/ngc3221_psw_flux_12.fits\n",
        "28.65 Output file written: out/ngc3221_psw_cfv_12.fits\n",
        "30.57 Correction array computed, iter 13"
       ]
      },
      {
       "output_type": "stream",
       "stream": "stdout",
       "text": [
        "\n",
        "       ... Mean flux in image = 0.425018\n",
        "30.58 Output file written: out/ngc3221_psw_flux_13.fits\n",
        "30.59 Output file written: out/ngc3221_psw_cfv_13.fits\n",
        "32.52 Correction array computed, iter 14"
       ]
      },
      {
       "output_type": "stream",
       "stream": "stdout",
       "text": [
        "\n",
        "       ... Mean flux in image = 0.425165\n",
        "32.53 Output file written: out/ngc3221_psw_flux_14.fits\n",
        "32.54 Output file written: out/ngc3221_psw_cfv_14.fits\n",
        "34.46 Correction array computed, iter 15"
       ]
      },
      {
       "output_type": "stream",
       "stream": "stdout",
       "text": [
        "\n",
        "       ... Mean flux in image = 0.425306\n",
        "34.47 Output file written: out/ngc3221_psw_flux_15.fits\n",
        "34.48 Output file written: out/ngc3221_psw_cfv_15.fits\n",
        "35.79 Correction array computed, iter 16"
       ]
      },
      {
       "output_type": "stream",
       "stream": "stdout",
       "text": [
        "\n",
        "       ... Mean flux in image = 0.425439\n",
        "37.10 Correction array computed, iter 17"
       ]
      },
      {
       "output_type": "stream",
       "stream": "stdout",
       "text": [
        "\n",
        "       ... Mean flux in image = 0.425567\n",
        "38.43 Correction array computed, iter 18"
       ]
      },
      {
       "output_type": "stream",
       "stream": "stdout",
       "text": [
        "\n",
        "       ... Mean flux in image = 0.425690\n",
        "39.74 Correction array computed, iter 19"
       ]
      },
      {
       "output_type": "stream",
       "stream": "stdout",
       "text": [
        "\n",
        "       ... Mean flux in image = 0.425807\n",
        "41.66 Correction array computed, iter 20"
       ]
      },
      {
       "output_type": "stream",
       "stream": "stdout",
       "text": [
        "\n",
        "       ... Mean flux in image = 0.425919\n",
        "41.67 Output file written: out/ngc3221_psw_flux_20.fits\n",
        "41.68 Output file written: out/ngc3221_psw_cfv_20.fits\n"
       ]
      },
      {
       "output_type": "display_data",
       "png": "[encoded data removed]"
      }
     ],
     "prompt_number": "*"
    },
    {
     "cell_type": "code",
     "collapsed": false,
     "input": [
      "if 'beam' in hires.OUTFILE_TYPES:\n",
      "    spike_image = hires.create_spike_image(hires.BEAM_SPIKE_N, hires.BEAM_SPIKE_HEIGHT)\n",
      "    hires.set_fluxes_to_sim_values(all_footprints, spike_image) # reset Sample.flux\n",
      "    beam_image, iter_start = hires.make_start_image(hires.BEAM_STARTING_IMAGE)\n",
      "    for iter in range(iter_start+1, hires.ITER_MAX+1):\n",
      "        corr_wgt_image, corr_sq_wgt_image = \\\n",
      "          hires.calc_corr_wgt_image(all_footprints, beam_image, iter, False)\n",
      "        beam_image *= corr_wgt_image / wgt_image\n",
      "        if iter in hires.ITER_LIST: hires.write_FITS_image(beam_image, 'beam', iter)"
     ],
     "language": "python",
     "metadata": {},
     "outputs": [
      {
       "output_type": "stream",
       "stream": "stdout",
       "text": [
        "42.61 Fluxes have been reset to simulated values\n",
        "43.92 Correction array computed, iter 1"
       ]
      },
      {
       "output_type": "stream",
       "stream": "stdout",
       "text": [
        "\n",
        "43.93 Output file written: out/ngc3221_psw_beam_1.fits\n",
        "45.25 Correction array computed, iter 2"
       ]
      },
      {
       "output_type": "stream",
       "stream": "stdout",
       "text": [
        "\n",
        "          (BOOSTED correction)\n",
        "45.26 Output file written: out/ngc3221_psw_beam_2.fits\n",
        "46.60 Correction array computed, iter 3"
       ]
      },
      {
       "output_type": "stream",
       "stream": "stdout",
       "text": [
        "\n",
        "          (BOOSTED correction)\n",
        "46.61 Output file written: out/ngc3221_psw_beam_3.fits\n",
        "47.95 Correction array computed, iter 4"
       ]
      },
      {
       "output_type": "stream",
       "stream": "stdout",
       "text": [
        "\n",
        "          (BOOSTED correction)\n",
        "47.96 Output file written: out/ngc3221_psw_beam_4.fits\n",
        "49.30 Correction array computed, iter 5"
       ]
      },
      {
       "output_type": "stream",
       "stream": "stdout",
       "text": [
        "\n",
        "          (BOOSTED correction)\n",
        "49.31 Output file written: out/ngc3221_psw_beam_5.fits\n",
        "50.62 Correction array computed, iter 6"
       ]
      },
      {
       "output_type": "stream",
       "stream": "stdout",
       "text": [
        "\n",
        "50.63 Output file written: out/ngc3221_psw_beam_6.fits\n",
        "51.96 Correction array computed, iter 7"
       ]
      },
      {
       "output_type": "stream",
       "stream": "stdout",
       "text": [
        "\n",
        "51.97 Output file written: out/ngc3221_psw_beam_7.fits\n",
        "53.32 Correction array computed, iter 8"
       ]
      },
      {
       "output_type": "stream",
       "stream": "stdout",
       "text": [
        "\n",
        "53.33 Output file written: out/ngc3221_psw_beam_8.fits\n",
        "54.64 Correction array computed, iter 9"
       ]
      },
      {
       "output_type": "stream",
       "stream": "stdout",
       "text": [
        "\n",
        "54.65 Output file written: out/ngc3221_psw_beam_9.fits\n",
        "55.97 Correction array computed, iter 10"
       ]
      },
      {
       "output_type": "stream",
       "stream": "stdout",
       "text": [
        "\n",
        "55.98 Output file written: out/ngc3221_psw_beam_10.fits\n",
        "57.29 Correction array computed, iter 11"
       ]
      },
      {
       "output_type": "stream",
       "stream": "stdout",
       "text": [
        "\n",
        "57.30 Output file written: out/ngc3221_psw_beam_11.fits\n",
        "58.61 Correction array computed, iter 12"
       ]
      },
      {
       "output_type": "stream",
       "stream": "stdout",
       "text": [
        "\n",
        "58.62 Output file written: out/ngc3221_psw_beam_12.fits\n",
        "59.92 Correction array computed, iter 13"
       ]
      },
      {
       "output_type": "stream",
       "stream": "stdout",
       "text": [
        "\n",
        "59.93 Output file written: out/ngc3221_psw_beam_13.fits\n",
        "61.23 Correction array computed, iter 14"
       ]
      },
      {
       "output_type": "stream",
       "stream": "stdout",
       "text": [
        "\n",
        "61.25 Output file written: out/ngc3221_psw_beam_14.fits\n",
        "62.56 Correction array computed, iter 15"
       ]
      },
      {
       "output_type": "stream",
       "stream": "stdout",
       "text": [
        "\n",
        "62.57 Output file written: out/ngc3221_psw_beam_15.fits\n",
        "63.89 Correction array computed, iter 16"
       ]
      },
      {
       "output_type": "stream",
       "stream": "stdout",
       "text": [
        "\n",
        "65.19 Correction array computed, iter 17"
       ]
      },
      {
       "output_type": "stream",
       "stream": "stdout",
       "text": [
        "\n",
        "66.50 Correction array computed, iter 18"
       ]
      },
      {
       "output_type": "stream",
       "stream": "stdout",
       "text": [
        "\n",
        "67.83 Correction array computed, iter 19"
       ]
      }
     ],
     "prompt_number": "*"
    },
    {
     "cell_type": "code",
     "collapsed": false,
     "input": [
      "hires.log(hires.LOG_step, 'End PROCESSING')"
     ],
     "language": "python",
     "metadata": {},
     "outputs": [],
     "prompt_number": "*"
    },
    {
     "cell_type": "markdown",
     "metadata": {},
     "source": [
      "Now try displaying the result in the notebook."
     ]
    },
    {
     "cell_type": "code",
     "collapsed": false,
     "input": [
      "hdu = pyfits.open(outprefix+'_flux_1.fits')\n",
      "data = hdu[0].data"
     ],
     "language": "python",
     "metadata": {},
     "outputs": [],
     "prompt_number": "*"
    },
    {
     "cell_type": "code",
     "collapsed": false,
     "input": [
      "imshow(data)"
     ],
     "language": "python",
     "metadata": {},
     "outputs": [],
     "prompt_number": "*"
    },
    {
     "cell_type": "code",
     "collapsed": false,
     "input": [
      "hdu20 = pyfits.open(outprefix+'_flux_20.fits')\n",
      "data20 = hdu20[0].data\n",
      "imshow(data20)"
     ],
     "language": "python",
     "metadata": {},
     "outputs": [],
     "prompt_number": "*"
    },
    {
     "cell_type": "code",
     "collapsed": false,
     "input": [],
     "language": "python",
     "metadata": {},
     "outputs": [],
     "prompt_number": "*"
    }
   ],
   "metadata": {}
  }
 ]
}